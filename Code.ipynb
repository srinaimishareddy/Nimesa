{
  "nbformat": 4,
  "nbformat_minor": 0,
  "metadata": {
    "colab": {
      "provenance": [],
      "authorship_tag": "ABX9TyPOx9jateZVlksvfPP+NVcd",
      "include_colab_link": true
    },
    "kernelspec": {
      "name": "python3",
      "display_name": "Python 3"
    },
    "language_info": {
      "name": "python"
    }
  },
  "cells": [
    {
      "cell_type": "markdown",
      "metadata": {
        "id": "view-in-github",
        "colab_type": "text"
      },
      "source": [
        "<a href=\"https://colab.research.google.com/github/srinaimishareddy/Nimesa/blob/main/Code.ipynb\" target=\"_parent\"><img src=\"https://colab.research.google.com/assets/colab-badge.svg\" alt=\"Open In Colab\"/></a>"
      ]
    },
    {
      "cell_type": "code",
      "execution_count": null,
      "metadata": {
        "colab": {
          "base_uri": "https://localhost:8080/"
        },
        "id": "C9K0tk8FRNtN",
        "outputId": "be64272c-13cb-423a-f440-34f6f7b909d0"
      },
      "outputs": [
        {
          "name": "stdout",
          "output_type": "stream",
          "text": [
            "\n",
            "Options:\n",
            "1. Get weather\n",
            "2. Get Wind Speed\n",
            "3. Get Pressure\n",
            "0. Exit\n",
            "Enter your choice: 1\n"
          ]
        }
      ],
      "source": [
        "import requests\n",
        "\n",
        "def get_weather_data():\n",
        "    api_key = \"b6907d289e10d714a6e88b30761fae22\"\n",
        "    url = f\"https://samples.openweathermap.org/data/2.5/forecast/hourly?q=London,us&appid={api_key}\"\n",
        "\n",
        "    response = requests.get(url)\n",
        "    if response.status_code == 200:\n",
        "        return response.json()\n",
        "    else:\n",
        "        print(\"Failed to fetch weather data. Please try again later.\")\n",
        "        return None\n",
        "\n",
        "def get_temperature(data, date):\n",
        "    for entry in data['list']:\n",
        "        if entry['dt_txt'] == date:\n",
        "            return entry['main']['temp']\n",
        "    return None\n",
        "\n",
        "def get_wind_speed(data, date):\n",
        "    for entry in data['list']:\n",
        "        if entry['dt_txt'] == date:\n",
        "            return entry['wind']['speed']\n",
        "    return None\n",
        "\n",
        "def get_pressure(data, date):\n",
        "    for entry in data['list']:\n",
        "        if entry['dt_txt'] == date:\n",
        "            return entry['main']['pressure']\n",
        "    return None\n",
        "\n",
        "def main():\n",
        "    data = get_weather_data()\n",
        "    if data is None:\n",
        "        return\n",
        "\n",
        "    while True:\n",
        "        print(\"\\nOptions:\")\n",
        "        print(\"1. Get weather\")\n",
        "        print(\"2. Get Wind Speed\")\n",
        "        print(\"3. Get Pressure\")\n",
        "        print(\"0. Exit\")\n",
        "\n",
        "        choice = int(input(\"Enter your choice: \"))\n",
        "\n",
        "        if choice == 0:\n",
        "            print(\"Terminating the program.\")\n",
        "            break\n",
        "\n",
        "        date = input(\"Enter the date (YYYY-MM-DD HH:MM:SS): \")\n",
        "\n",
        "        if choice == 1:\n",
        "            temperature = get_temperature(data, date)\n",
        "            if temperature is not None:\n",
        "                print(f\"Temperature on {date}: {temperature} Kelvin\")\n",
        "            else:\n",
        "                print(\"Data not available for the given date.\")\n",
        "        elif choice == 2:\n",
        "            wind_speed = get_wind_speed(data, date)\n",
        "            if wind_speed is not None:\n",
        "                print(f\"Wind Speed on {date}: {wind_speed} m/s\")\n",
        "            else:\n",
        "                print(\"Data not available for the given date.\")\n",
        "        elif choice == 3:\n",
        "            pressure = get_pressure(data, date)\n",
        "            if pressure is not None:\n",
        "                print(f\"Pressure on {date}: {pressure} hPa\")\n",
        "            else:\n",
        "                print(\"Data not available for the given date.\")\n",
        "        else:\n",
        "            print(\"Invalid choice. Please try again.\")\n",
        "\n",
        "if __name__ == \"__main__\":\n",
        "    main()\n"
      ]
    }
  ]
}